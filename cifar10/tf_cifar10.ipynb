{
 "cells": [
  {
   "cell_type": "code",
   "execution_count": 33,
   "metadata": {},
   "outputs": [],
   "source": [
    "import numpy as np\n",
    "import pandas as pd\n",
    "from matplotlib import pyplot as plt\n",
    "import seaborn as sns\n",
    "import tensorflow as tf\n",
    "import pickle\n",
    "\n",
    "%matplotlib inline"
   ]
  },
  {
   "cell_type": "code",
   "execution_count": 9,
   "metadata": {},
   "outputs": [
    {
     "name": "stdout",
     "output_type": "stream",
     "text": [
      "Running on tensorflow version:  1.9.0\n"
     ]
    }
   ],
   "source": [
    "print('Running on tensorflow version: ', tf.__version__)"
   ]
  },
  {
   "cell_type": "code",
   "execution_count": 13,
   "metadata": {},
   "outputs": [],
   "source": [
    "'''From https://www.cs.toronto.edu/~kriz/cifar.html'''\n",
    "def unpickle(file):\n",
    "#     import pickle\n",
    "    with open(file, 'rb') as fo:\n",
    "        dict = pickle.load(fo, encoding='bytes')\n",
    "    return dict"
   ]
  },
  {
   "cell_type": "code",
   "execution_count": 14,
   "metadata": {},
   "outputs": [],
   "source": [
    "# set directory of the pickled batch files\n",
    "dir_prefix = './cifar-10-batches-py/'"
   ]
  },
  {
   "cell_type": "code",
   "execution_count": 15,
   "metadata": {},
   "outputs": [],
   "source": [
    "def load_data(file_name):\n",
    "    return unpickle(dir_prefix + file_name)"
   ]
  },
  {
   "cell_type": "code",
   "execution_count": 101,
   "metadata": {},
   "outputs": [],
   "source": [
    "def process_batch(batch_np_array):\n",
    "    num_instance = batch_np_array.shape[0]\n",
    "    batch_reshape = batch_np_array.reshape(num_instance, 3, 1024)\n",
    "    # transposes the 2nd and 3rd dim\n",
    "    batch_reshape = batch_reshape.transpose((0, 2, 1))\n",
    "    batch_reshape = batch_reshape.reshape(num_instance, 32, 32, 3)\n",
    "    return batch_reshape"
   ]
  },
  {
   "cell_type": "markdown",
   "metadata": {},
   "source": [
    "### Set some global variables"
   ]
  },
  {
   "cell_type": "code",
   "execution_count": 132,
   "metadata": {},
   "outputs": [],
   "source": [
    "image_width = 32\n",
    "image_height = 32\n",
    "num_channels = 3\n",
    "num_classes = 10"
   ]
  },
  {
   "cell_type": "markdown",
   "metadata": {},
   "source": [
    "### Examining/exploring data"
   ]
  },
  {
   "cell_type": "code",
   "execution_count": 67,
   "metadata": {},
   "outputs": [],
   "source": [
    "label_name_dict = load_data('batches.meta')"
   ]
  },
  {
   "cell_type": "code",
   "execution_count": 69,
   "metadata": {},
   "outputs": [],
   "source": [
    "label_name_list = label_name_dict[b'label_names']"
   ]
  },
  {
   "cell_type": "code",
   "execution_count": 72,
   "metadata": {},
   "outputs": [
    {
     "data": {
      "text/plain": [
       "[b'airplane',\n",
       " b'automobile',\n",
       " b'bird',\n",
       " b'cat',\n",
       " b'deer',\n",
       " b'dog',\n",
       " b'frog',\n",
       " b'horse',\n",
       " b'ship',\n",
       " b'truck']"
      ]
     },
     "execution_count": 72,
     "metadata": {},
     "output_type": "execute_result"
    }
   ],
   "source": [
    "label_name_list"
   ]
  },
  {
   "cell_type": "code",
   "execution_count": 16,
   "metadata": {
    "scrolled": true
   },
   "outputs": [],
   "source": [
    "batch_1_dict = load_data('data_batch_1')"
   ]
  },
  {
   "cell_type": "code",
   "execution_count": 26,
   "metadata": {},
   "outputs": [
    {
     "data": {
      "text/plain": [
       "10000"
      ]
     },
     "execution_count": 26,
     "metadata": {},
     "output_type": "execute_result"
    }
   ],
   "source": [
    "len(batch_1_dict[b'labels'])"
   ]
  },
  {
   "cell_type": "code",
   "execution_count": 105,
   "metadata": {},
   "outputs": [],
   "source": [
    "batch_1_labels = batch_1_dict[b'labels']"
   ]
  },
  {
   "cell_type": "code",
   "execution_count": 106,
   "metadata": {},
   "outputs": [],
   "source": [
    "batch_1_data = batch_1_dict[b'data']"
   ]
  },
  {
   "cell_type": "code",
   "execution_count": 107,
   "metadata": {
    "scrolled": true
   },
   "outputs": [
    {
     "data": {
      "text/plain": [
       "(10000, 3072)"
      ]
     },
     "execution_count": 107,
     "metadata": {},
     "output_type": "execute_result"
    }
   ],
   "source": [
    "batch_1_data.shape"
   ]
  },
  {
   "cell_type": "code",
   "execution_count": 108,
   "metadata": {},
   "outputs": [],
   "source": [
    "processed_batch_1 = process_batch(batch_1_data)"
   ]
  },
  {
   "cell_type": "code",
   "execution_count": 109,
   "metadata": {},
   "outputs": [
    {
     "data": {
      "text/plain": [
       "<matplotlib.image.AxesImage at 0x11fd9c198>"
      ]
     },
     "execution_count": 109,
     "metadata": {},
     "output_type": "execute_result"
    },
    {
     "data": {
      "image/png": "[encoded data removed]",
      "text/plain": [
       "<Figure size 432x288 with 1 Axes>"
      ]
     },
     "metadata": {},
     "output_type": "display_data"
    }
   ],
   "source": [
    "plt.imshow(processed_batch_1[7])"
   ]
  },
  {
   "cell_type": "code",
   "execution_count": 76,
   "metadata": {},
   "outputs": [],
   "source": [
    "# test_reshape = batch_1_data.reshape(10000, 3, 1024)"
   ]
  },
  {
   "cell_type": "code",
   "execution_count": 77,
   "metadata": {},
   "outputs": [
    {
     "data": {
      "text/plain": [
       "(10000, 3, 1024)"
      ]
     },
     "execution_count": 77,
     "metadata": {},
     "output_type": "execute_result"
    }
   ],
   "source": [
    "# test_reshape.shape"
   ]
  },
  {
   "cell_type": "code",
   "execution_count": 80,
   "metadata": {},
   "outputs": [],
   "source": [
    "# transposes the 2nd and 3rd dim\n",
    "# test_reshape = test_reshape.transpose((0, 2, 1))"
   ]
  },
  {
   "cell_type": "code",
   "execution_count": 81,
   "metadata": {},
   "outputs": [
    {
     "data": {
      "text/plain": [
       "(10000, 1024, 3)"
      ]
     },
     "execution_count": 81,
     "metadata": {},
     "output_type": "execute_result"
    }
   ],
   "source": [
    "# test_reshape.shape"
   ]
  },
  {
   "cell_type": "code",
   "execution_count": 83,
   "metadata": {},
   "outputs": [],
   "source": [
    "# temp_test = test_reshape.reshape(10000, 32, 32, 3)"
   ]
  },
  {
   "cell_type": "code",
   "execution_count": 86,
   "metadata": {},
   "outputs": [
    {
     "data": {
      "text/plain": [
       "<matplotlib.image.AxesImage at 0x11bfb4d30>"
      ]
     },
     "execution_count": 86,
     "metadata": {},
     "output_type": "execute_result"
    },
    {
     "data": {
      "image/png": "[encoded data removed]",
      "text/plain": [
       "<Figure size 432x288 with 1 Axes>"
      ]
     },
     "metadata": {},
     "output_type": "display_data"
    }
   ],
   "source": [
    "# plt.imshow(temp_test[7])"
   ]
  },
  {
   "cell_type": "code",
   "execution_count": 94,
   "metadata": {},
   "outputs": [],
   "source": [
    "batch_2_dict = load_data('data_batch_2')"
   ]
  },
  {
   "cell_type": "code",
   "execution_count": 95,
   "metadata": {},
   "outputs": [],
   "source": [
    "batch_2_data = batch_2_dict[b'data']"
   ]
  },
  {
   "cell_type": "code",
   "execution_count": 96,
   "metadata": {},
   "outputs": [],
   "source": [
    "batch_2_labels = batch_2_dict[b'labels']"
   ]
  },
  {
   "cell_type": "code",
   "execution_count": 97,
   "metadata": {},
   "outputs": [],
   "source": [
    "processed_batch_2 = process_batch(batch_2_data)"
   ]
  },
  {
   "cell_type": "code",
   "execution_count": 98,
   "metadata": {},
   "outputs": [
    {
     "data": {
      "text/plain": [
       "(10000, 32, 32, 3)"
      ]
     },
     "execution_count": 98,
     "metadata": {},
     "output_type": "execute_result"
    }
   ],
   "source": [
    "processed_batch_2.shape"
   ]
  },
  {
   "cell_type": "code",
   "execution_count": 100,
   "metadata": {},
   "outputs": [
    {
     "data": {
      "text/plain": [
       "<matplotlib.image.AxesImage at 0x11de17358>"
      ]
     },
     "execution_count": 100,
     "metadata": {},
     "output_type": "execute_result"
    },
    {
     "data": {
      "image/png": "[encoded data removed]",
      "text/plain": [
       "<Figure size 432x288 with 1 Axes>"
      ]
     },
     "metadata": {},
     "output_type": "display_data"
    }
   ],
   "source": [
    "plt.imshow(processed_batch_2[1])"
   ]
  },
  {
   "cell_type": "code",
   "execution_count": 110,
   "metadata": {},
   "outputs": [
    {
     "data": {
      "text/plain": [
       "(10000, 32, 32, 3)"
      ]
     },
     "execution_count": 110,
     "metadata": {},
     "output_type": "execute_result"
    }
   ],
   "source": [
    "processed_batch_1.shape"
   ]
  },
  {
   "cell_type": "code",
   "execution_count": 111,
   "metadata": {},
   "outputs": [
    {
     "data": {
      "text/plain": [
       "(10000, 32, 32, 3)"
      ]
     },
     "execution_count": 111,
     "metadata": {},
     "output_type": "execute_result"
    }
   ],
   "source": [
    "processed_batch_2.shape"
   ]
  },
  {
   "cell_type": "code",
   "execution_count": 114,
   "metadata": {},
   "outputs": [],
   "source": [
    "test_concat_data = np.concatenate((processed_batch_1, processed_batch_2), axis=0)"
   ]
  },
  {
   "cell_type": "code",
   "execution_count": 115,
   "metadata": {},
   "outputs": [
    {
     "data": {
      "text/plain": [
       "<matplotlib.image.AxesImage at 0x12735bda0>"
      ]
     },
     "execution_count": 115,
     "metadata": {},
     "output_type": "execute_result"
    },
    {
     "data": {
      "image/png": "[encoded data removed]",
      "text/plain": [
       "<Figure size 432x288 with 1 Axes>"
      ]
     },
     "metadata": {},
     "output_type": "display_data"
    }
   ],
   "source": [
    "plt.imshow(test_concat_data[7])"
   ]
  },
  {
   "cell_type": "code",
   "execution_count": 117,
   "metadata": {},
   "outputs": [
    {
     "data": {
      "text/plain": [
       "<matplotlib.image.AxesImage at 0x127498160>"
      ]
     },
     "execution_count": 117,
     "metadata": {},
     "output_type": "execute_result"
    },
    {
     "data": {
      "image/png": "[encoded data removed]",
      "text/plain": [
       "<Figure size 432x288 with 1 Axes>"
      ]
     },
     "metadata": {},
     "output_type": "display_data"
    }
   ],
   "source": [
    "plt.imshow(test_concat_data[10001])"
   ]
  },
  {
   "cell_type": "markdown",
   "metadata": {},
   "source": [
    "### Load and concat all 5 batches of training data"
   ]
  },
  {
   "cell_type": "code",
   "execution_count": 121,
   "metadata": {},
   "outputs": [
    {
     "name": "stdout",
     "output_type": "stream",
     "text": [
      "1\n",
      "2\n",
      "3\n",
      "4\n",
      "5\n"
     ]
    }
   ],
   "source": [
    "for i in range(1, 6):\n",
    "    print(i)"
   ]
  },
  {
   "cell_type": "code",
   "execution_count": 124,
   "metadata": {},
   "outputs": [],
   "source": [
    "data_batch_list = []\n",
    "label_batch_list = []\n",
    "for i in range(1, 6):\n",
    "    current_batch = load_data('data_batch_' + str(i))\n",
    "    current_data = current_batch[b'data']\n",
    "    current_label = current_batch[b'labels']\n",
    "    current_data = process_batch(current_data)\n",
    "    data_batch_list.append(current_data)\n",
    "    label_batch_list = label_batch_list + current_label"
   ]
  },
  {
   "cell_type": "code",
   "execution_count": 125,
   "metadata": {},
   "outputs": [
    {
     "data": {
      "text/plain": [
       "5"
      ]
     },
     "execution_count": 125,
     "metadata": {},
     "output_type": "execute_result"
    }
   ],
   "source": [
    "len(data_batch_list)"
   ]
  },
  {
   "cell_type": "code",
   "execution_count": 126,
   "metadata": {},
   "outputs": [
    {
     "data": {
      "text/plain": [
       "(10000, 32, 32, 3)"
      ]
     },
     "execution_count": 126,
     "metadata": {},
     "output_type": "execute_result"
    }
   ],
   "source": [
    "data_batch_list[0].shape"
   ]
  },
  {
   "cell_type": "code",
   "execution_count": 127,
   "metadata": {},
   "outputs": [],
   "source": [
    "training_data = np.concatenate(data_batch_list, axis=0)"
   ]
  },
  {
   "cell_type": "code",
   "execution_count": 128,
   "metadata": {},
   "outputs": [
    {
     "data": {
      "text/plain": [
       "(50000, 32, 32, 3)"
      ]
     },
     "execution_count": 128,
     "metadata": {},
     "output_type": "execute_result"
    }
   ],
   "source": [
    "training_data.shape"
   ]
  },
  {
   "cell_type": "code",
   "execution_count": 129,
   "metadata": {},
   "outputs": [
    {
     "data": {
      "text/plain": [
       "50000"
      ]
     },
     "execution_count": 129,
     "metadata": {},
     "output_type": "execute_result"
    }
   ],
   "source": [
    "len(label_batch_list)"
   ]
  },
  {
   "cell_type": "code",
   "execution_count": 133,
   "metadata": {},
   "outputs": [],
   "source": [
    "training_label = np.zeros((training_data.shape[0], num_classes))"
   ]
  },
  {
   "cell_type": "code",
   "execution_count": 134,
   "metadata": {},
   "outputs": [
    {
     "data": {
      "text/plain": [
       "(50000, 10)"
      ]
     },
     "execution_count": 134,
     "metadata": {},
     "output_type": "execute_result"
    }
   ],
   "source": [
    "training_label.shape"
   ]
  },
  {
   "cell_type": "code",
   "execution_count": 135,
   "metadata": {},
   "outputs": [],
   "source": [
    "for i in range(50000):\n",
    "    true_label = label_batch_list[i]\n",
    "    training_label[i][true_label] += 1"
   ]
  },
  {
   "cell_type": "code",
   "execution_count": 143,
   "metadata": {},
   "outputs": [
    {
     "data": {
      "text/plain": [
       "array([[0., 0., 0., ..., 0., 0., 0.],\n",
       "       [0., 0., 0., ..., 0., 0., 1.],\n",
       "       [0., 0., 0., ..., 0., 0., 1.],\n",
       "       ...,\n",
       "       [0., 0., 0., ..., 0., 0., 1.],\n",
       "       [0., 1., 0., ..., 0., 0., 0.],\n",
       "       [0., 1., 0., ..., 0., 0., 0.]])"
      ]
     },
     "execution_count": 143,
     "metadata": {},
     "output_type": "execute_result"
    }
   ],
   "source": [
    "# one hot vector for labels\n",
    "training_label"
   ]
  },
  {
   "cell_type": "code",
   "execution_count": 152,
   "metadata": {},
   "outputs": [
    {
     "data": {
      "text/plain": [
       "(50000, 10)"
      ]
     },
     "execution_count": 152,
     "metadata": {},
     "output_type": "execute_result"
    }
   ],
   "source": [
    "training_label.shape"
   ]
  },
  {
   "cell_type": "code",
   "execution_count": 179,
   "metadata": {},
   "outputs": [],
   "source": [
    "tf.reset_default_graph()"
   ]
  },
  {
   "cell_type": "code",
   "execution_count": 180,
   "metadata": {},
   "outputs": [],
   "source": [
    "# build model\n",
    "\n",
    "x = tf.placeholder(tf.float32, shape=[None, image_height, image_width, num_channels], name='x')\n",
    "\n",
    "y = tf.placeholder(tf.float32, shape=[None, num_classes], name='y_true')\n",
    "\n",
    "conv1 = tf.layers.conv2d(inputs=x, filters=32, kernel_size=[5, 5], activation='relu', padding='same', strides=[2, 2], name='conv_layer_1')\n",
    "\n",
    "conv1 = tf.layers.max_pooling2d(inputs=conv1, pool_size=[2, 2], strides=2, name='max_pool_1')\n",
    "\n",
    "# conv1 = tf.layers.batch_normalization(inputs=conv1, name='batch_norm_1')\n",
    "\n",
    "conv2 = tf.layers.conv2d(inputs=conv1, filters=64, kernel_size=[5, 5], activation='relu', padding='same', strides=1, name='conv_layer_2')\n",
    "\n",
    "conv2 = tf.layers.max_pooling2d(inputs=conv2, pool_size=[2, 2], strides=2, name='max_pool_2')\n",
    "\n",
    "flat1 = tf.layers.flatten(inputs=conv2)\n",
    "\n",
    "dense1 = tf.layers.dense(inputs=flat1, units=1024, activation='relu', name='dense_layer_1')\n",
    "\n",
    "dropout1 = tf.layers.dropout(inputs=dense1, rate=0.4, name='dropout_layer_1')\n",
    "\n",
    "dense2 = tf.layers.dense(inputs=dropout1, units=10, activation='softmax', name='softmax_output_layer')"
   ]
  },
  {
   "cell_type": "code",
   "execution_count": 181,
   "metadata": {},
   "outputs": [],
   "source": [
    "y_pred = dense2"
   ]
  },
  {
   "cell_type": "code",
   "execution_count": 182,
   "metadata": {},
   "outputs": [],
   "source": [
    "y_pred_cls = tf.argmax(y_pred, axis=1)"
   ]
  },
  {
   "cell_type": "code",
   "execution_count": 183,
   "metadata": {},
   "outputs": [],
   "source": [
    "cost_function = tf.nn.softmax_cross_entropy_with_logits_v2(labels=y, logits=dense2)"
   ]
  },
  {
   "cell_type": "code",
   "execution_count": 184,
   "metadata": {},
   "outputs": [],
   "source": [
    "cost = tf.reduce_mean(cost_function)"
   ]
  },
  {
   "cell_type": "code",
   "execution_count": 185,
   "metadata": {},
   "outputs": [],
   "source": [
    "optimizer = tf.train.AdamOptimizer()"
   ]
  },
  {
   "cell_type": "code",
   "execution_count": 186,
   "metadata": {},
   "outputs": [],
   "source": [
    "train = optimizer.minimize(cost)"
   ]
  },
  {
   "cell_type": "code",
   "execution_count": 187,
   "metadata": {},
   "outputs": [],
   "source": [
    "correct_prediction = tf.equal(y_pred_cls, tf.argmax(y, axis=1))\n",
    "accuracy = tf.reduce_mean(tf.cast(correct_prediction, tf.float32))"
   ]
  },
  {
   "cell_type": "code",
   "execution_count": 188,
   "metadata": {},
   "outputs": [],
   "source": [
    "session = tf.Session()"
   ]
  },
  {
   "cell_type": "code",
   "execution_count": 189,
   "metadata": {},
   "outputs": [],
   "source": [
    "session.run(tf.global_variables_initializer())"
   ]
  },
  {
   "cell_type": "code",
   "execution_count": null,
   "metadata": {},
   "outputs": [],
   "source": [
    "# training\n"
   ]
  },
  {
   "cell_type": "code",
   "execution_count": null,
   "metadata": {},
   "outputs": [],
   "source": []
  },
  {
   "cell_type": "markdown",
   "metadata": {},
   "source": [
    "#### Setting some training variables"
   ]
  },
  {
   "cell_type": "code",
   "execution_count": 196,
   "metadata": {},
   "outputs": [],
   "source": [
    "batch_size = 64"
   ]
  },
  {
   "cell_type": "code",
   "execution_count": 222,
   "metadata": {},
   "outputs": [],
   "source": [
    "# use tf.data to create input iterator\n",
    "tf_input_data = tf.data.Dataset.from_tensor_slices((training_data, training_label))\n",
    "tf_input_data = tf_input_data.batch(batch_size)"
   ]
  },
  {
   "cell_type": "code",
   "execution_count": 223,
   "metadata": {},
   "outputs": [],
   "source": [
    "ite = tf_input_data.make_one_shot_iterator()\n",
    "element = ite.get_next()"
   ]
  },
  {
   "cell_type": "code",
   "execution_count": 224,
   "metadata": {},
   "outputs": [
    {
     "name": "stdout",
     "output_type": "stream",
     "text": [
      "(array([[[[ 59,  62,  63],\n",
      "         [ 43,  46,  45],\n",
      "         [ 50,  48,  43],\n",
      "         ...,\n",
      "         [158, 132, 108],\n",
      "         [152, 125, 102],\n",
      "         [148, 124, 103]],\n",
      "\n",
      "        [[ 16,  20,  20],\n",
      "         [  0,   0,   0],\n",
      "         [ 18,   8,   0],\n",
      "         ...,\n",
      "         [123,  88,  55],\n",
      "         [119,  83,  50],\n",
      "         [122,  87,  57]],\n",
      "\n",
      "        [[ 25,  24,  21],\n",
      "         [ 16,   7,   0],\n",
      "         [ 49,  27,   8],\n",
      "         ...,\n",
      "         [118,  84,  50],\n",
      "         [120,  84,  50],\n",
      "         [109,  73,  42]],\n",
      "\n",
      "        ...,\n",
      "\n",
      "        [[208, 170,  96],\n",
      "         [201, 153,  34],\n",
      "         [198, 161,  26],\n",
      "         ...,\n",
      "         [160, 133,  70],\n",
      "         [ 56,  31,   7],\n",
      "         [ 53,  34,  20]],\n",
      "\n",
      "        [[180, 139,  96],\n",
      "         [173, 123,  42],\n",
      "         [186, 144,  30],\n",
      "         ...,\n",
      "         [184, 148,  94],\n",
      "         [ 97,  62,  34],\n",
      "         [ 83,  53,  34]],\n",
      "\n",
      "        [[177, 144, 116],\n",
      "         [168, 129,  94],\n",
      "         [179, 142,  87],\n",
      "         ...,\n",
      "         [216, 184, 140],\n",
      "         [151, 118,  84],\n",
      "         [123,  92,  72]]],\n",
      "\n",
      "\n",
      "       [[[154, 177, 187],\n",
      "         [126, 137, 136],\n",
      "         [105, 104,  95],\n",
      "         ...,\n",
      "         [ 91,  95,  71],\n",
      "         [ 87,  90,  71],\n",
      "         [ 79,  81,  70]],\n",
      "\n",
      "        [[140, 160, 169],\n",
      "         [145, 153, 154],\n",
      "         [125, 125, 118],\n",
      "         ...,\n",
      "         [ 96,  99,  78],\n",
      "         [ 77,  80,  62],\n",
      "         [ 71,  73,  61]],\n",
      "\n",
      "        [[140, 155, 164],\n",
      "         [139, 146, 149],\n",
      "         [115, 115, 112],\n",
      "         ...,\n",
      "         [ 79,  82,  64],\n",
      "         [ 68,  70,  55],\n",
      "         [ 67,  69,  55]],\n",
      "\n",
      "        ...,\n",
      "\n",
      "        [[175, 167, 166],\n",
      "         [156, 154, 160],\n",
      "         [154, 160, 170],\n",
      "         ...,\n",
      "         [ 42,  34,  36],\n",
      "         [ 61,  53,  57],\n",
      "         [ 93,  83,  91]],\n",
      "\n",
      "        [[165, 154, 128],\n",
      "         [156, 152, 130],\n",
      "         [159, 161, 142],\n",
      "         ...,\n",
      "         [103,  93,  96],\n",
      "         [123, 114, 120],\n",
      "         [131, 121, 131]],\n",
      "\n",
      "        [[163, 148, 120],\n",
      "         [158, 148, 122],\n",
      "         [163, 156, 133],\n",
      "         ...,\n",
      "         [143, 133, 139],\n",
      "         [143, 134, 142],\n",
      "         [143, 133, 144]]],\n",
      "\n",
      "\n",
      "       [[[255, 255, 255],\n",
      "         [253, 253, 253],\n",
      "         [253, 253, 253],\n",
      "         ...,\n",
      "         [253, 253, 253],\n",
      "         [253, 253, 253],\n",
      "         [253, 253, 253]],\n",
      "\n",
      "        [[255, 255, 255],\n",
      "         [255, 255, 255],\n",
      "         [255, 255, 255],\n",
      "         ...,\n",
      "         [255, 255, 255],\n",
      "         [255, 255, 255],\n",
      "         [255, 255, 255]],\n",
      "\n",
      "        [[255, 255, 255],\n",
      "         [254, 254, 254],\n",
      "         [254, 254, 254],\n",
      "         ...,\n",
      "         [254, 254, 254],\n",
      "         [254, 254, 254],\n",
      "         [254, 254, 254]],\n",
      "\n",
      "        ...,\n",
      "\n",
      "        [[113, 120, 112],\n",
      "         [111, 118, 111],\n",
      "         [105, 112, 106],\n",
      "         ...,\n",
      "         [ 72,  81,  80],\n",
      "         [ 72,  80,  79],\n",
      "         [ 72,  80,  79]],\n",
      "\n",
      "        [[111, 118, 110],\n",
      "         [104, 111, 104],\n",
      "         [ 99, 106,  98],\n",
      "         ...,\n",
      "         [ 68,  75,  73],\n",
      "         [ 70,  76,  75],\n",
      "         [ 78,  84,  82]],\n",
      "\n",
      "        [[106, 113, 105],\n",
      "         [ 99, 106,  98],\n",
      "         [ 95, 102,  94],\n",
      "         ...,\n",
      "         [ 78,  85,  83],\n",
      "         [ 79,  85,  83],\n",
      "         [ 80,  86,  84]]],\n",
      "\n",
      "\n",
      "       ...,\n",
      "\n",
      "\n",
      "       [[[114, 119, 125],\n",
      "         [117, 122, 126],\n",
      "         [120, 126, 129],\n",
      "         ...,\n",
      "         [165, 166, 160],\n",
      "         [125, 126, 121],\n",
      "         [103, 103, 110]],\n",
      "\n",
      "        [[111, 116, 122],\n",
      "         [116, 121, 127],\n",
      "         [121, 126, 133],\n",
      "         ...,\n",
      "         [162, 163, 157],\n",
      "         [127, 128, 123],\n",
      "         [103, 103, 109]],\n",
      "\n",
      "        [[114, 119, 125],\n",
      "         [121, 125, 136],\n",
      "         [128, 132, 142],\n",
      "         ...,\n",
      "         [167, 168, 162],\n",
      "         [132, 133, 126],\n",
      "         [106, 108, 102]],\n",
      "\n",
      "        ...,\n",
      "\n",
      "        [[165, 166, 161],\n",
      "         [170, 171, 167],\n",
      "         [175, 176, 171],\n",
      "         ...,\n",
      "         [185, 179, 168],\n",
      "         [207, 199, 194],\n",
      "         [201, 193, 185]],\n",
      "\n",
      "        [[175, 176, 171],\n",
      "         [175, 176, 171],\n",
      "         [180, 181, 176],\n",
      "         ...,\n",
      "         [187, 182, 162],\n",
      "         [200, 194, 181],\n",
      "         [193, 186, 178]],\n",
      "\n",
      "        [[173, 174, 169],\n",
      "         [171, 172, 167],\n",
      "         [177, 178, 173],\n",
      "         ...,\n",
      "         [205, 200, 182],\n",
      "         [210, 204, 192],\n",
      "         [202, 195, 187]]],\n",
      "\n",
      "\n",
      "       [[[ 76, 118, 167],\n",
      "         [ 73, 118, 164],\n",
      "         [ 69, 116, 162],\n",
      "         ...,\n",
      "         [ 75, 135, 180],\n",
      "         [ 72, 134, 178],\n",
      "         [ 70, 135, 179]],\n",
      "\n",
      "        [[ 76, 122, 170],\n",
      "         [ 71, 119, 166],\n",
      "         [ 66, 117, 163],\n",
      "         ...,\n",
      "         [ 79, 136, 178],\n",
      "         [ 76, 135, 177],\n",
      "         [ 75, 137, 179]],\n",
      "\n",
      "        [[ 71, 120, 170],\n",
      "         [ 65, 117, 165],\n",
      "         [ 62, 116, 164],\n",
      "         ...,\n",
      "         [ 80, 133, 173],\n",
      "         [ 77, 132, 172],\n",
      "         [ 76, 135, 174]],\n",
      "\n",
      "        ...,\n",
      "\n",
      "        [[ 11,  36,  66],\n",
      "         [  9,  32,  61],\n",
      "         [  6,  32,  61],\n",
      "         ...,\n",
      "         [ 31,  61,  79],\n",
      "         [ 32,  62,  80],\n",
      "         [ 29,  59,  77]],\n",
      "\n",
      "        [[  0,  19,  46],\n",
      "         [  0,  13,  40],\n",
      "         [  0,   7,  36],\n",
      "         ...,\n",
      "         [ 12,  38,  55],\n",
      "         [ 12,  37,  55],\n",
      "         [ 13,  38,  56]],\n",
      "\n",
      "        [[ 87, 100, 115],\n",
      "         [ 83,  92, 108],\n",
      "         [ 81,  86, 103],\n",
      "         ...,\n",
      "         [ 99, 116, 127],\n",
      "         [ 99, 115, 127],\n",
      "         [102, 119, 130]]],\n",
      "\n",
      "\n",
      "       [[[ 65, 114,  54],\n",
      "         [ 70, 121,  62],\n",
      "         [ 76, 129,  71],\n",
      "         ...,\n",
      "         [ 33,  47,  42],\n",
      "         [ 59,  62,  53],\n",
      "         [ 62,  66,  56]],\n",
      "\n",
      "        [[ 71, 120,  57],\n",
      "         [ 78, 129,  65],\n",
      "         [ 87, 140,  75],\n",
      "         ...,\n",
      "         [ 23,  30,  24],\n",
      "         [ 65,  62,  51],\n",
      "         [ 74,  72,  57]],\n",
      "\n",
      "        [[ 69, 118,  53],\n",
      "         [ 77, 129,  60],\n",
      "         [ 82, 137,  63],\n",
      "         ...,\n",
      "         [ 19,  20,  13],\n",
      "         [ 67,  57,  49],\n",
      "         [ 83,  73,  66]],\n",
      "\n",
      "        ...,\n",
      "\n",
      "        [[ 14,  14,  14],\n",
      "         [ 14,  14,  14],\n",
      "         [ 14,  14,  14],\n",
      "         ...,\n",
      "         [ 54,  76,  45],\n",
      "         [ 54,  80,  42],\n",
      "         [ 52,  81,  46]],\n",
      "\n",
      "        [[ 14,  14,  14],\n",
      "         [ 14,  14,  14],\n",
      "         [ 14,  14,  14],\n",
      "         ...,\n",
      "         [ 53,  76,  46],\n",
      "         [ 45,  69,  37],\n",
      "         [ 38,  63,  34]],\n",
      "\n",
      "        [[ 14,  14,  14],\n",
      "         [ 14,  14,  14],\n",
      "         [ 14,  14,  14],\n",
      "         ...,\n",
      "         [ 49,  72,  45],\n",
      "         [ 31,  51,  30],\n",
      "         [ 21,  39,  21]]]], dtype=uint8), array([[0., 0., 0., 0., 0., 0., 1., 0., 0., 0.],\n",
      "       [0., 0., 0., 0., 0., 0., 0., 0., 0., 1.],\n",
      "       [0., 0., 0., 0., 0., 0., 0., 0., 0., 1.],\n",
      "       [0., 0., 0., 0., 1., 0., 0., 0., 0., 0.],\n",
      "       [0., 1., 0., 0., 0., 0., 0., 0., 0., 0.],\n",
      "       [0., 1., 0., 0., 0., 0., 0., 0., 0., 0.],\n",
      "       [0., 0., 1., 0., 0., 0., 0., 0., 0., 0.],\n",
      "       [0., 0., 0., 0., 0., 0., 0., 1., 0., 0.],\n",
      "       [0., 0., 0., 0., 0., 0., 0., 0., 1., 0.],\n",
      "       [0., 0., 0., 1., 0., 0., 0., 0., 0., 0.],\n",
      "       [0., 0., 0., 0., 1., 0., 0., 0., 0., 0.],\n",
      "       [0., 0., 0., 0., 0., 0., 0., 1., 0., 0.],\n",
      "       [0., 0., 0., 0., 0., 0., 0., 1., 0., 0.],\n",
      "       [0., 0., 1., 0., 0., 0., 0., 0., 0., 0.],\n",
      "       [0., 0., 0., 0., 0., 0., 0., 0., 0., 1.],\n",
      "       [0., 0., 0., 0., 0., 0., 0., 0., 0., 1.],\n",
      "       [0., 0., 0., 0., 0., 0., 0., 0., 0., 1.],\n",
      "       [0., 0., 0., 1., 0., 0., 0., 0., 0., 0.],\n",
      "       [0., 0., 1., 0., 0., 0., 0., 0., 0., 0.],\n",
      "       [0., 0., 0., 0., 0., 0., 1., 0., 0., 0.],\n",
      "       [0., 0., 0., 0., 1., 0., 0., 0., 0., 0.],\n",
      "       [0., 0., 0., 1., 0., 0., 0., 0., 0., 0.],\n",
      "       [0., 0., 0., 0., 0., 0., 1., 0., 0., 0.],\n",
      "       [0., 0., 0., 0., 0., 0., 1., 0., 0., 0.],\n",
      "       [0., 0., 1., 0., 0., 0., 0., 0., 0., 0.],\n",
      "       [0., 0., 0., 0., 0., 0., 1., 0., 0., 0.],\n",
      "       [0., 0., 0., 1., 0., 0., 0., 0., 0., 0.],\n",
      "       [0., 0., 0., 0., 0., 1., 0., 0., 0., 0.],\n",
      "       [0., 0., 0., 0., 1., 0., 0., 0., 0., 0.],\n",
      "       [1., 0., 0., 0., 0., 0., 0., 0., 0., 0.],\n",
      "       [1., 0., 0., 0., 0., 0., 0., 0., 0., 0.],\n",
      "       [0., 0., 0., 0., 0., 0., 0., 0., 0., 1.],\n",
      "       [0., 1., 0., 0., 0., 0., 0., 0., 0., 0.],\n",
      "       [0., 0., 0., 1., 0., 0., 0., 0., 0., 0.],\n",
      "       [0., 0., 0., 0., 1., 0., 0., 0., 0., 0.],\n",
      "       [1., 0., 0., 0., 0., 0., 0., 0., 0., 0.],\n",
      "       [0., 0., 0., 1., 0., 0., 0., 0., 0., 0.],\n",
      "       [0., 0., 0., 0., 0., 0., 0., 1., 0., 0.],\n",
      "       [0., 0., 0., 1., 0., 0., 0., 0., 0., 0.],\n",
      "       [0., 0., 0., 1., 0., 0., 0., 0., 0., 0.],\n",
      "       [0., 0., 0., 0., 0., 1., 0., 0., 0., 0.],\n",
      "       [0., 0., 1., 0., 0., 0., 0., 0., 0., 0.],\n",
      "       [0., 0., 1., 0., 0., 0., 0., 0., 0., 0.],\n",
      "       [0., 0., 0., 0., 0., 0., 0., 1., 0., 0.],\n",
      "       [0., 1., 0., 0., 0., 0., 0., 0., 0., 0.],\n",
      "       [0., 1., 0., 0., 0., 0., 0., 0., 0., 0.],\n",
      "       [0., 1., 0., 0., 0., 0., 0., 0., 0., 0.],\n",
      "       [0., 0., 1., 0., 0., 0., 0., 0., 0., 0.],\n",
      "       [0., 0., 1., 0., 0., 0., 0., 0., 0., 0.],\n",
      "       [1., 0., 0., 0., 0., 0., 0., 0., 0., 0.],\n",
      "       [0., 0., 0., 0., 0., 0., 0., 0., 0., 1.],\n",
      "       [0., 0., 0., 0., 0., 1., 0., 0., 0., 0.],\n",
      "       [0., 0., 0., 0., 0., 0., 0., 1., 0., 0.],\n",
      "       [0., 0., 0., 0., 0., 0., 0., 0., 0., 1.],\n",
      "       [0., 0., 1., 0., 0., 0., 0., 0., 0., 0.],\n",
      "       [0., 0., 1., 0., 0., 0., 0., 0., 0., 0.],\n",
      "       [0., 0., 0., 0., 0., 1., 0., 0., 0., 0.],\n",
      "       [0., 0., 1., 0., 0., 0., 0., 0., 0., 0.],\n",
      "       [0., 0., 0., 0., 1., 0., 0., 0., 0., 0.],\n",
      "       [0., 0., 0., 1., 0., 0., 0., 0., 0., 0.],\n",
      "       [0., 1., 0., 0., 0., 0., 0., 0., 0., 0.],\n",
      "       [0., 1., 0., 0., 0., 0., 0., 0., 0., 0.],\n",
      "       [0., 0., 0., 0., 0., 0., 0., 0., 1., 0.],\n",
      "       [0., 0., 1., 0., 0., 0., 0., 0., 0., 0.]]))\n"
     ]
    }
   ],
   "source": [
    "with tf.Session() as sess:\n",
    "    temp = sess.run(element)\n",
    "    print(temp)"
   ]
  },
  {
   "cell_type": "code",
   "execution_count": 225,
   "metadata": {},
   "outputs": [
    {
     "data": {
      "text/plain": [
       "(64, 32, 32, 3)"
      ]
     },
     "execution_count": 225,
     "metadata": {},
     "output_type": "execute_result"
    }
   ],
   "source": [
    "temp[0].shape"
   ]
  },
  {
   "cell_type": "code",
   "execution_count": 226,
   "metadata": {},
   "outputs": [
    {
     "data": {
      "text/plain": [
       "(64, 10)"
      ]
     },
     "execution_count": 226,
     "metadata": {},
     "output_type": "execute_result"
    }
   ],
   "source": [
    "temp[1].shape"
   ]
  },
  {
   "cell_type": "code",
   "execution_count": 228,
   "metadata": {},
   "outputs": [
    {
     "data": {
      "text/plain": [
       "<matplotlib.image.AxesImage at 0x12ced8b70>"
      ]
     },
     "execution_count": 228,
     "metadata": {},
     "output_type": "execute_result"
    },
    {
     "data": {
      "image/png": "[encoded data removed]",
      "text/plain": [
       "<Figure size 432x288 with 1 Axes>"
      ]
     },
     "metadata": {},
     "output_type": "display_data"
    }
   ],
   "source": [
    "plt.imshow(temp[0][30])"
   ]
  },
  {
   "cell_type": "code",
   "execution_count": 229,
   "metadata": {},
   "outputs": [],
   "source": [
    "current_cls = np.argmax(temp[1][30])"
   ]
  },
  {
   "cell_type": "code",
   "execution_count": 230,
   "metadata": {},
   "outputs": [
    {
     "data": {
      "text/plain": [
       "b'airplane'"
      ]
     },
     "execution_count": 230,
     "metadata": {},
     "output_type": "execute_result"
    }
   ],
   "source": [
    "label_name_list[current_cls]"
   ]
  },
  {
   "cell_type": "code",
   "execution_count": null,
   "metadata": {},
   "outputs": [],
   "source": []
  }
 ],
 "metadata": {
  "kernelspec": {
   "display_name": "Python 3",
   "language": "python",
   "name": "python3"
  },
  "language_info": {
   "codemirror_mode": {
    "name": "ipython",
    "version": 3
   },
   "file_extension": ".py",
   "mimetype": "text/x-python",
   "name": "python",
   "nbconvert_exporter": "python",
   "pygments_lexer": "ipython3",
   "version": "3.6.0"
  }
 },
 "nbformat": 4,
 "nbformat_minor": 2
}
