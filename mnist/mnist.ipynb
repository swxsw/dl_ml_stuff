{
  "nbformat": 4,
  "nbformat_minor": 0,
  "metadata": {
    "colab": {
      "name": "mnist.ipynb",
      "version": "0.3.2",
      "views": {},
      "default_view": {},
      "provenance": [],
      "collapsed_sections": []
    },
    "kernelspec": {
      "name": "python3",
      "display_name": "Python 3"
    },
    "accelerator": "GPU"
  },
  "cells": [
    {
      "metadata": {
        "id": "Hqr3jg4RFLHR",
        "colab_type": "text"
      },
      "cell_type": "markdown",
      "source": [
        "The purpose of this notebook is to explore running the input data to the model via the tf.data api instead of feed dicts as that is deemed more efficient to prevent GPU starvation, with possibility of optimizing the input pipeline by doing threading and prefatching."
      ]
    },
    {
      "metadata": {
        "id": "uGqNct5Ubxij",
        "colab_type": "code",
        "colab": {
          "autoexec": {
            "startup": false,
            "wait_interval": 0
          }
        }
      },
      "cell_type": "code",
      "source": [
        "import tensorflow as tf\n",
        "import numpy as np"
      ],
      "execution_count": 0,
      "outputs": []
    },
    {
      "metadata": {
        "id": "ONZLW2eXcHqE",
        "colab_type": "code",
        "colab": {
          "autoexec": {
            "startup": false,
            "wait_interval": 0
          }
        }
      },
      "cell_type": "code",
      "source": [
        "from tensorflow.examples.tutorials.mnist import input_data"
      ],
      "execution_count": 0,
      "outputs": []
    },
    {
      "metadata": {
        "id": "K5LogqXzedsG",
        "colab_type": "code",
        "colab": {
          "autoexec": {
            "startup": false,
            "wait_interval": 0
          },
          "base_uri": "https://localhost:8080/",
          "height": 411
        },
        "outputId": "f842239c-5aea-4b11-c0da-c7d94d5f7a7d",
        "executionInfo": {
          "status": "ok",
          "timestamp": 1532682021171,
          "user_tz": -480,
          "elapsed": 1872,
          "user": {
            "displayName": "su wei",
            "photoUrl": "https://lh3.googleusercontent.com/a/default-user=s128",
            "userId": "114343161714158173402"
          }
        }
      },
      "cell_type": "code",
      "source": [
        "mnist = input_data.read_data_sets(\"MNIST_data/\", one_hot=True)"
      ],
      "execution_count": 3,
      "outputs": [
        {
          "output_type": "stream",
          "text": [
            "WARNING:tensorflow:From <ipython-input-3-a839aeb82f4b>:1: read_data_sets (from tensorflow.contrib.learn.python.learn.datasets.mnist) is deprecated and will be removed in a future version.\n",
            "Instructions for updating:\n",
            "Please use alternatives such as official/mnist/dataset.py from tensorflow/models.\n",
            "WARNING:tensorflow:From /usr/local/lib/python3.6/dist-packages/tensorflow/contrib/learn/python/learn/datasets/mnist.py:260: maybe_download (from tensorflow.contrib.learn.python.learn.datasets.base) is deprecated and will be removed in a future version.\n",
            "Instructions for updating:\n",
            "Please write your own downloading logic.\n",
            "WARNING:tensorflow:From /usr/local/lib/python3.6/dist-packages/tensorflow/contrib/learn/python/learn/datasets/mnist.py:262: extract_images (from tensorflow.contrib.learn.python.learn.datasets.mnist) is deprecated and will be removed in a future version.\n",
            "Instructions for updating:\n",
            "Please use tf.data to implement this functionality.\n",
            "Extracting MNIST_data/train-images-idx3-ubyte.gz\n",
            "WARNING:tensorflow:From /usr/local/lib/python3.6/dist-packages/tensorflow/contrib/learn/python/learn/datasets/mnist.py:267: extract_labels (from tensorflow.contrib.learn.python.learn.datasets.mnist) is deprecated and will be removed in a future version.\n",
            "Instructions for updating:\n",
            "Please use tf.data to implement this functionality.\n",
            "Extracting MNIST_data/train-labels-idx1-ubyte.gz\n",
            "WARNING:tensorflow:From /usr/local/lib/python3.6/dist-packages/tensorflow/contrib/learn/python/learn/datasets/mnist.py:110: dense_to_one_hot (from tensorflow.contrib.learn.python.learn.datasets.mnist) is deprecated and will be removed in a future version.\n",
            "Instructions for updating:\n",
            "Please use tf.one_hot on tensors.\n",
            "Extracting MNIST_data/t10k-images-idx3-ubyte.gz\n",
            "Extracting MNIST_data/t10k-labels-idx1-ubyte.gz\n",
            "WARNING:tensorflow:From /usr/local/lib/python3.6/dist-packages/tensorflow/contrib/learn/python/learn/datasets/mnist.py:290: DataSet.__init__ (from tensorflow.contrib.learn.python.learn.datasets.mnist) is deprecated and will be removed in a future version.\n",
            "Instructions for updating:\n",
            "Please use alternatives such as official/mnist/dataset.py from tensorflow/models.\n"
          ],
          "name": "stdout"
        }
      ]
    },
    {
      "metadata": {
        "id": "5fjhzkiwef-I",
        "colab_type": "code",
        "colab": {
          "autoexec": {
            "startup": false,
            "wait_interval": 0
          },
          "base_uri": "https://localhost:8080/",
          "height": 54
        },
        "outputId": "cac4a6ee-1a45-4128-f7b2-9472ea5deab0",
        "executionInfo": {
          "status": "ok",
          "timestamp": 1532682022004,
          "user_tz": -480,
          "elapsed": 791,
          "user": {
            "displayName": "su wei",
            "photoUrl": "https://lh3.googleusercontent.com/a/default-user=s128",
            "userId": "114343161714158173402"
          }
        }
      },
      "cell_type": "code",
      "source": [
        "mnist"
      ],
      "execution_count": 4,
      "outputs": [
        {
          "output_type": "execute_result",
          "data": {
            "text/plain": [
              "Datasets(train=<tensorflow.contrib.learn.python.learn.datasets.mnist.DataSet object at 0x7f2e11ccb208>, validation=<tensorflow.contrib.learn.python.learn.datasets.mnist.DataSet object at 0x7f2dce2cefd0>, test=<tensorflow.contrib.learn.python.learn.datasets.mnist.DataSet object at 0x7f2dc723b160>)"
            ]
          },
          "metadata": {
            "tags": []
          },
          "execution_count": 4
        }
      ]
    },
    {
      "metadata": {
        "id": "Yy6uqBBbe8Xn",
        "colab_type": "code",
        "colab": {
          "autoexec": {
            "startup": false,
            "wait_interval": 0
          }
        }
      },
      "cell_type": "code",
      "source": [
        "train_data = mnist.train"
      ],
      "execution_count": 0,
      "outputs": []
    },
    {
      "metadata": {
        "id": "vRfx9rn9fHaQ",
        "colab_type": "code",
        "colab": {
          "autoexec": {
            "startup": false,
            "wait_interval": 0
          }
        }
      },
      "cell_type": "code",
      "source": [
        "test_data = mnist.test"
      ],
      "execution_count": 0,
      "outputs": []
    },
    {
      "metadata": {
        "id": "YA1QjZEVfoSJ",
        "colab_type": "code",
        "colab": {
          "autoexec": {
            "startup": false,
            "wait_interval": 0
          }
        }
      },
      "cell_type": "code",
      "source": [
        "val_data = mnist.validation"
      ],
      "execution_count": 0,
      "outputs": []
    },
    {
      "metadata": {
        "id": "QgPsg5EjfsUy",
        "colab_type": "code",
        "colab": {
          "autoexec": {
            "startup": false,
            "wait_interval": 0
          }
        }
      },
      "cell_type": "code",
      "source": [
        "# settting variables\n",
        "image_height = 28\n",
        "image_width = 28\n",
        "image_pixel = 28 * 28\n",
        "batch_size = 32"
      ],
      "execution_count": 0,
      "outputs": []
    },
    {
      "metadata": {
        "id": "atF4Icqof0FE",
        "colab_type": "code",
        "colab": {
          "autoexec": {
            "startup": false,
            "wait_interval": 0
          },
          "base_uri": "https://localhost:8080/",
          "height": 34
        },
        "outputId": "65df1198-b544-4ed4-bacb-ea7e1d15d8f1",
        "executionInfo": {
          "status": "ok",
          "timestamp": 1532682026220,
          "user_tz": -480,
          "elapsed": 739,
          "user": {
            "displayName": "su wei",
            "photoUrl": "https://lh3.googleusercontent.com/a/default-user=s128",
            "userId": "114343161714158173402"
          }
        }
      },
      "cell_type": "code",
      "source": [
        "train_data.labels.shape"
      ],
      "execution_count": 9,
      "outputs": [
        {
          "output_type": "execute_result",
          "data": {
            "text/plain": [
              "(55000, 10)"
            ]
          },
          "metadata": {
            "tags": []
          },
          "execution_count": 9
        }
      ]
    },
    {
      "metadata": {
        "id": "4ihwTBkmf4eH",
        "colab_type": "code",
        "colab": {
          "autoexec": {
            "startup": false,
            "wait_interval": 0
          },
          "base_uri": "https://localhost:8080/",
          "height": 34
        },
        "outputId": "a92405e6-9cf6-4b07-e03a-7c7434c581a7",
        "executionInfo": {
          "status": "ok",
          "timestamp": 1532682027053,
          "user_tz": -480,
          "elapsed": 706,
          "user": {
            "displayName": "su wei",
            "photoUrl": "https://lh3.googleusercontent.com/a/default-user=s128",
            "userId": "114343161714158173402"
          }
        }
      },
      "cell_type": "code",
      "source": [
        "train_data.images.shape"
      ],
      "execution_count": 10,
      "outputs": [
        {
          "output_type": "execute_result",
          "data": {
            "text/plain": [
              "(55000, 784)"
            ]
          },
          "metadata": {
            "tags": []
          },
          "execution_count": 10
        }
      ]
    },
    {
      "metadata": {
        "id": "NX-8wetBt1JT",
        "colab_type": "code",
        "colab": {
          "autoexec": {
            "startup": false,
            "wait_interval": 0
          }
        }
      },
      "cell_type": "code",
      "source": [
        "# getting the number of data instance for each of the datasets\n",
        "num_train_data = train_data.labels.shape[0]\n",
        "num_test_data = test_data.labels.shape[0]\n",
        "num_val_data = val_data.labels.shape[0]"
      ],
      "execution_count": 0,
      "outputs": []
    },
    {
      "metadata": {
        "id": "po8GbTdAgJk8",
        "colab_type": "code",
        "colab": {
          "autoexec": {
            "startup": false,
            "wait_interval": 0
          }
        }
      },
      "cell_type": "code",
      "source": [
        "temp = train_data.next_batch(100)"
      ],
      "execution_count": 0,
      "outputs": []
    },
    {
      "metadata": {
        "id": "D-gchl_ujh86",
        "colab_type": "text"
      },
      "cell_type": "markdown",
      "source": [
        "Going to try to use tf data as a way to feed into model"
      ]
    },
    {
      "metadata": {
        "id": "w9ykjp5djLMN",
        "colab_type": "code",
        "colab": {
          "autoexec": {
            "startup": false,
            "wait_interval": 0
          }
        }
      },
      "cell_type": "code",
      "source": [
        "# we wanted unlimited looping so repeat indefinitely\n",
        "dataset_train = tf.data.Dataset.from_tensor_slices((train_data.images, train_data.labels)).batch(32).repeat()"
      ],
      "execution_count": 0,
      "outputs": []
    },
    {
      "metadata": {
        "id": "PDJAzs9TzWY9",
        "colab_type": "code",
        "colab": {
          "autoexec": {
            "startup": false,
            "wait_interval": 0
          },
          "base_uri": "https://localhost:8080/",
          "height": 34
        },
        "outputId": "cb88a399-fe4a-471e-d5b6-4ce9973fb67a",
        "executionInfo": {
          "status": "ok",
          "timestamp": 1532682031246,
          "user_tz": -480,
          "elapsed": 776,
          "user": {
            "displayName": "su wei",
            "photoUrl": "https://lh3.googleusercontent.com/a/default-user=s128",
            "userId": "114343161714158173402"
          }
        }
      },
      "cell_type": "code",
      "source": [
        "type(train_data.images)"
      ],
      "execution_count": 14,
      "outputs": [
        {
          "output_type": "execute_result",
          "data": {
            "text/plain": [
              "numpy.ndarray"
            ]
          },
          "metadata": {
            "tags": []
          },
          "execution_count": 14
        }
      ]
    },
    {
      "metadata": {
        "id": "rFileIvglzbI",
        "colab_type": "code",
        "colab": {
          "autoexec": {
            "startup": false,
            "wait_interval": 0
          },
          "base_uri": "https://localhost:8080/",
          "height": 34
        },
        "outputId": "856ff601-d3c1-47e1-a3d6-0200769ab353",
        "executionInfo": {
          "status": "ok",
          "timestamp": 1532682032057,
          "user_tz": -480,
          "elapsed": 684,
          "user": {
            "displayName": "su wei",
            "photoUrl": "https://lh3.googleusercontent.com/a/default-user=s128",
            "userId": "114343161714158173402"
          }
        }
      },
      "cell_type": "code",
      "source": [
        "dataset_train"
      ],
      "execution_count": 15,
      "outputs": [
        {
          "output_type": "execute_result",
          "data": {
            "text/plain": [
              "<RepeatDataset shapes: ((?, 784), (?, 10)), types: (tf.float32, tf.float64)>"
            ]
          },
          "metadata": {
            "tags": []
          },
          "execution_count": 15
        }
      ]
    },
    {
      "metadata": {
        "id": "hps8mUhfmDXR",
        "colab_type": "code",
        "colab": {
          "autoexec": {
            "startup": false,
            "wait_interval": 0
          }
        }
      },
      "cell_type": "code",
      "source": [
        "# if I do not use batch, the iterator initialized from this dataset will do instance by instance iteration.\n",
        "# This is a trick to not have to use another iterator. Basically batch_size = test data size so I only have 1 batch of everything.\n",
        "dataset_test = tf.data.Dataset.from_tensor_slices((test_data.images, test_data.labels)).batch(num_test_data).repeat()"
      ],
      "execution_count": 0,
      "outputs": []
    },
    {
      "metadata": {
        "id": "bUkL-wIsmdHh",
        "colab_type": "code",
        "colab": {
          "autoexec": {
            "startup": false,
            "wait_interval": 0
          }
        }
      },
      "cell_type": "code",
      "source": [
        "dataset_val = tf.data.Dataset.from_tensor_slices((val_data.images, val_data.labels)).batch(num_val_data).repeat()"
      ],
      "execution_count": 0,
      "outputs": []
    },
    {
      "metadata": {
        "id": "AEeVv5N2sDMi",
        "colab_type": "code",
        "colab": {
          "autoexec": {
            "startup": false,
            "wait_interval": 0
          }
        }
      },
      "cell_type": "code",
      "source": [
        "itera = tf.data.Iterator.from_structure(dataset_train.output_types, dataset_train.output_shapes)"
      ],
      "execution_count": 0,
      "outputs": []
    },
    {
      "metadata": {
        "id": "TxETcvC0sq4m",
        "colab_type": "code",
        "colab": {
          "autoexec": {
            "startup": false,
            "wait_interval": 0
          }
        }
      },
      "cell_type": "code",
      "source": [
        "train_init_op = itera.make_initializer(dataset_train)\n",
        "test_init_op = itera.make_initializer(dataset_test)\n",
        "val_init_op = itera.make_initializer(dataset_val)"
      ],
      "execution_count": 0,
      "outputs": []
    },
    {
      "metadata": {
        "id": "8JFHIijsszb_",
        "colab_type": "code",
        "colab": {
          "autoexec": {
            "startup": false,
            "wait_interval": 0
          }
        }
      },
      "cell_type": "code",
      "source": [
        "instance, label = itera.get_next()"
      ],
      "execution_count": 0,
      "outputs": []
    },
    {
      "metadata": {
        "id": "q5qYHUYnaVqg",
        "colab_type": "code",
        "colab": {
          "autoexec": {
            "startup": false,
            "wait_interval": 0
          },
          "base_uri": "https://localhost:8080/",
          "height": 34
        },
        "outputId": "c268e1a4-6bbf-44c6-b0e9-d733b9129044",
        "executionInfo": {
          "status": "ok",
          "timestamp": 1532682036973,
          "user_tz": -480,
          "elapsed": 749,
          "user": {
            "displayName": "su wei",
            "photoUrl": "https://lh3.googleusercontent.com/a/default-user=s128",
            "userId": "114343161714158173402"
          }
        }
      },
      "cell_type": "code",
      "source": [
        "train_data.images.shape"
      ],
      "execution_count": 21,
      "outputs": [
        {
          "output_type": "execute_result",
          "data": {
            "text/plain": [
              "(55000, 784)"
            ]
          },
          "metadata": {
            "tags": []
          },
          "execution_count": 21
        }
      ]
    },
    {
      "metadata": {
        "id": "e71loi5AagW6",
        "colab_type": "code",
        "colab": {
          "autoexec": {
            "startup": false,
            "wait_interval": 0
          },
          "base_uri": "https://localhost:8080/",
          "height": 34
        },
        "outputId": "86788f72-bf2c-478a-a894-3752101883b7",
        "executionInfo": {
          "status": "ok",
          "timestamp": 1532682037792,
          "user_tz": -480,
          "elapsed": 662,
          "user": {
            "displayName": "su wei",
            "photoUrl": "https://lh3.googleusercontent.com/a/default-user=s128",
            "userId": "114343161714158173402"
          }
        }
      },
      "cell_type": "code",
      "source": [
        "55000/32"
      ],
      "execution_count": 22,
      "outputs": [
        {
          "output_type": "execute_result",
          "data": {
            "text/plain": [
              "1718.75"
            ]
          },
          "metadata": {
            "tags": []
          },
          "execution_count": 22
        }
      ]
    },
    {
      "metadata": {
        "id": "MIDHGmc8fZQg",
        "colab_type": "code",
        "colab": {
          "autoexec": {
            "startup": false,
            "wait_interval": 0
          },
          "base_uri": "https://localhost:8080/",
          "height": 34
        },
        "outputId": "f67df812-0d7f-422a-9dbf-d546be3e2134",
        "executionInfo": {
          "status": "ok",
          "timestamp": 1532682038608,
          "user_tz": -480,
          "elapsed": 693,
          "user": {
            "displayName": "su wei",
            "photoUrl": "https://lh3.googleusercontent.com/a/default-user=s128",
            "userId": "114343161714158173402"
          }
        }
      },
      "cell_type": "code",
      "source": [
        "55000 - 32 * 1718"
      ],
      "execution_count": 23,
      "outputs": [
        {
          "output_type": "execute_result",
          "data": {
            "text/plain": [
              "24"
            ]
          },
          "metadata": {
            "tags": []
          },
          "execution_count": 23
        }
      ]
    },
    {
      "metadata": {
        "id": "Vftrw8JSuTfN",
        "colab_type": "code",
        "colab": {
          "autoexec": {
            "startup": false,
            "wait_interval": 0
          }
        }
      },
      "cell_type": "code",
      "source": [
        "num_iterations_per_epoch = num_train_data // batch_size\n",
        "if num_train_data % batch_size != 0:\n",
        "  num_iterations_per_epoch += 1"
      ],
      "execution_count": 0,
      "outputs": []
    },
    {
      "metadata": {
        "id": "1IKwyoQyux81",
        "colab_type": "code",
        "colab": {
          "autoexec": {
            "startup": false,
            "wait_interval": 0
          },
          "base_uri": "https://localhost:8080/",
          "height": 34
        },
        "outputId": "2f6f28b1-e7fe-43ce-a49a-6a6aa04bb0a1",
        "executionInfo": {
          "status": "ok",
          "timestamp": 1532682040266,
          "user_tz": -480,
          "elapsed": 750,
          "user": {
            "displayName": "su wei",
            "photoUrl": "https://lh3.googleusercontent.com/a/default-user=s128",
            "userId": "114343161714158173402"
          }
        }
      },
      "cell_type": "code",
      "source": [
        "num_iterations_per_epoch"
      ],
      "execution_count": 25,
      "outputs": [
        {
          "output_type": "execute_result",
          "data": {
            "text/plain": [
              "1719"
            ]
          },
          "metadata": {
            "tags": []
          },
          "execution_count": 25
        }
      ]
    },
    {
      "metadata": {
        "id": "welIY3bruzPA",
        "colab_type": "code",
        "colab": {
          "autoexec": {
            "startup": false,
            "wait_interval": 0
          },
          "base_uri": "https://localhost:8080/",
          "height": 54
        },
        "outputId": "0885ec89-c711-40ae-c5bb-577b93bb804f",
        "executionInfo": {
          "status": "ok",
          "timestamp": 1532682041082,
          "user_tz": -480,
          "elapsed": 662,
          "user": {
            "displayName": "su wei",
            "photoUrl": "https://lh3.googleusercontent.com/a/default-user=s128",
            "userId": "114343161714158173402"
          }
        }
      },
      "cell_type": "code",
      "source": [
        "''' commented out this cell\n",
        "first = None\n",
        "last = None\n",
        "second = None\n",
        "test = None\n",
        "\n",
        "with tf.Session() as sess:\n",
        "  sess.run(train_init_op)\n",
        "#   for _ in range(num_epoch):\n",
        "#     print(sess.run(tf.shape(instance)))\n",
        "  for i in range(3438):\n",
        "    result = sess.run(instance)\n",
        "    if i >= 3430 and i < 3445:\n",
        "      print(result.shape)\n",
        "#     print(i)\n",
        "#     if i == 0:\n",
        "#       first = sess.run(tf.Print(instance, [instance]))\n",
        "#     if i == 1716:\n",
        "# #       print(sess.run(tf.shape(instance)))\n",
        "#       last = sess.run(tf.Print(instance, [instance]))\n",
        "#     if i == 1716:\n",
        "#       test = sess.run(tf.Print(instance, [instance]))\n",
        "#     if i == 2:\n",
        "#       second = sess.run(tf.Print(instance, [instance]))\n",
        "'''"
      ],
      "execution_count": 26,
      "outputs": [
        {
          "output_type": "execute_result",
          "data": {
            "text/plain": [
              "' commented out this cell\\nfirst = None\\nlast = None\\nsecond = None\\ntest = None\\n\\nwith tf.Session() as sess:\\n  sess.run(train_init_op)\\n#   for _ in range(num_epoch):\\n#     print(sess.run(tf.shape(instance)))\\n  for i in range(3438):\\n    result = sess.run(instance)\\n    if i >= 3430 and i < 3445:\\n      print(result.shape)\\n#     print(i)\\n#     if i == 0:\\n#       first = sess.run(tf.Print(instance, [instance]))\\n#     if i == 1716:\\n# #       print(sess.run(tf.shape(instance)))\\n#       last = sess.run(tf.Print(instance, [instance]))\\n#     if i == 1716:\\n#       test = sess.run(tf.Print(instance, [instance]))\\n#     if i == 2:\\n#       second = sess.run(tf.Print(instance, [instance]))\\n'"
            ]
          },
          "metadata": {
            "tags": []
          },
          "execution_count": 26
        }
      ]
    },
    {
      "metadata": {
        "id": "x9p61XpNm0Zt",
        "colab_type": "code",
        "colab": {
          "autoexec": {
            "startup": false,
            "wait_interval": 0
          }
        }
      },
      "cell_type": "code",
      "source": [
        "# write model\n",
        "input_tensor = tf.reshape(instance, [-1, image_height, image_width, 1])\n",
        "\n",
        "conv1 = tf.layers.conv2d(inputs=input_tensor, filters=32, kernel_size=[5, 5], activation='relu', padding='same', strides=[2, 2], name='conv_layer_1')\n",
        "\n",
        "conv1 = tf.layers.max_pooling2d(inputs=conv1, pool_size=[2, 2], strides=2, name='max_pool_1')\n",
        "\n",
        "conv2 = tf.layers.conv2d(inputs=conv1, filters=64, kernel_size=[5, 5], activation='relu', padding='same', strides=1, name='conv_layer_2')\n",
        "\n",
        "conv2 = tf.layers.max_pooling2d(inputs=conv2, pool_size=[2, 2], strides=2, name='max_pool_2')\n",
        "\n",
        "flat1 = tf.layers.flatten(inputs=conv2)\n",
        "\n",
        "dense1 = tf.layers.dense(inputs=flat1, units=1024, activation='relu', name='dense_layer_1')\n",
        "\n",
        "dropout1 = tf.layers.dropout(inputs=dense1, rate=0.4, name='dropout_layer_1')\n",
        "\n",
        "dense2 = tf.layers.dense(inputs=dropout1, units=10, activation='softmax', name='softmax_output_layer')\n",
        "\n",
        "\n",
        "# outputs\n",
        "\n",
        "y_pred = dense2\n",
        "\n",
        "y_pred_cls = tf.argmax(y_pred, axis=1)\n",
        "\n",
        "## we do not want gradient to be backpropagated to labels, so we pass it through tf.stop_gradient\n",
        "\n",
        "label_stopped = tf.stop_gradient(label)\n",
        "\n",
        "cost_function = tf.nn.softmax_cross_entropy_with_logits_v2(labels=label_stopped, logits=dense2)\n",
        "\n",
        "cost = tf.reduce_mean(cost_function)\n",
        "\n",
        "optimizer = tf.train.AdamOptimizer()\n",
        "\n",
        "train = optimizer.minimize(cost)\n",
        "\n",
        "\n",
        "\n",
        "correct_prediction  = tf.equal(y_pred_cls, tf.argmax(label, axis=1))\n",
        "\n",
        "accuracy = tf.reduce_mean(tf.cast(correct_prediction, tf.float32))"
      ],
      "execution_count": 0,
      "outputs": []
    },
    {
      "metadata": {
        "id": "6-st_ji90Tf6",
        "colab_type": "code",
        "colab": {
          "autoexec": {
            "startup": false,
            "wait_interval": 0
          }
        }
      },
      "cell_type": "code",
      "source": [
        "sess = tf.Session()\n",
        "sess.run(tf.global_variables_initializer())"
      ],
      "execution_count": 0,
      "outputs": []
    },
    {
      "metadata": {
        "id": "CwLausJIsAmb",
        "colab_type": "code",
        "colab": {
          "autoexec": {
            "startup": false,
            "wait_interval": 0
          },
          "base_uri": "https://localhost:8080/",
          "height": 5457
        },
        "outputId": "5352785a-24ff-4e2d-85c0-cbbcbe863837",
        "executionInfo": {
          "status": "ok",
          "timestamp": 1532682160764,
          "user_tz": -480,
          "elapsed": 88449,
          "user": {
            "displayName": "su wei",
            "photoUrl": "https://lh3.googleusercontent.com/a/default-user=s128",
            "userId": "114343161714158173402"
          }
        }
      },
      "cell_type": "code",
      "source": [
        "# training + test loop\n",
        "\n",
        "## setting number of epoch\n",
        "num_epoch = 10\n",
        "\n",
        "# for every epoch\n",
        "for i in range(num_epoch):\n",
        "  print('Epoch: ', i + 1)\n",
        "  \n",
        "  # init to training data\n",
        "  sess.run(train_init_op)\n",
        "  # train all the batches\n",
        "  print('Train')\n",
        "  for j in range(num_iterations_per_epoch):\n",
        "    sess.run(train)\n",
        "    if j % 200 == 0:\n",
        "      print('iteration: ', j)\n",
        "      print('loss: ', sess.run(cost))\n",
        "      print('accuracy: ', sess.run(accuracy))\n",
        "    \n",
        "  \n",
        "  # init to test data\n",
        "  sess.run(test_init_op)\n",
        "  # run on test data and print loss + accuracy\n",
        "  print('Test')\n",
        "  print('loss: ', sess.run(cost))\n",
        "  print('accuracy: ', sess.run(accuracy))"
      ],
      "execution_count": 29,
      "outputs": [
        {
          "output_type": "stream",
          "text": [
            "Epoch:  1\n",
            "Train\n",
            "iteration:  0\n",
            "loss:  2.3003616\n",
            "accuracy:  0.15625\n",
            "iteration:  200\n",
            "loss:  1.5562592\n",
            "accuracy:  0.9375\n",
            "iteration:  400\n",
            "loss:  1.5234406\n",
            "accuracy:  0.90625\n",
            "iteration:  600\n",
            "loss:  1.5270953\n",
            "accuracy:  0.875\n",
            "iteration:  800\n",
            "loss:  1.5066153\n",
            "accuracy:  0.96875\n",
            "iteration:  1000\n",
            "loss:  1.4930961\n",
            "accuracy:  1.0\n",
            "iteration:  1200\n",
            "loss:  1.4689977\n",
            "accuracy:  1.0\n",
            "iteration:  1400\n",
            "loss:  1.4699483\n",
            "accuracy:  1.0\n",
            "iteration:  1600\n",
            "loss:  1.4924018\n",
            "accuracy:  0.9375\n",
            "Test\n",
            "loss:  1.4988601\n",
            "accuracy:  0.963\n",
            "Epoch:  2\n",
            "Train\n",
            "iteration:  0\n",
            "loss:  1.5226343\n",
            "accuracy:  0.96875\n",
            "iteration:  200\n",
            "loss:  1.4812655\n",
            "accuracy:  1.0\n",
            "iteration:  400\n",
            "loss:  1.4616954\n",
            "accuracy:  0.96875\n",
            "iteration:  600\n",
            "loss:  1.4845674\n",
            "accuracy:  0.96875\n",
            "iteration:  800\n",
            "loss:  1.4906473\n",
            "accuracy:  0.96875\n",
            "iteration:  1000\n",
            "loss:  1.4923426\n",
            "accuracy:  1.0\n",
            "iteration:  1200\n",
            "loss:  1.4941297\n",
            "accuracy:  0.96875\n",
            "iteration:  1400\n",
            "loss:  1.4611504\n",
            "accuracy:  1.0\n",
            "iteration:  1600\n",
            "loss:  1.4924505\n",
            "accuracy:  1.0\n",
            "Test\n",
            "loss:  1.487898\n",
            "accuracy:  0.9739\n",
            "Epoch:  3\n",
            "Train\n",
            "iteration:  0\n",
            "loss:  1.5225772\n",
            "accuracy:  1.0\n",
            "iteration:  200\n",
            "loss:  1.4611529\n",
            "accuracy:  0.96875\n",
            "iteration:  400\n",
            "loss:  1.4611514\n",
            "accuracy:  1.0\n",
            "iteration:  600\n",
            "loss:  1.4908675\n",
            "accuracy:  0.96875\n",
            "iteration:  800\n",
            "loss:  1.4925594\n",
            "accuracy:  0.9375\n",
            "iteration:  1000\n",
            "loss:  1.4924002\n",
            "accuracy:  1.0\n",
            "iteration:  1200\n",
            "loss:  1.4619765\n",
            "accuracy:  0.96875\n",
            "iteration:  1400\n",
            "loss:  1.4923944\n",
            "accuracy:  1.0\n",
            "iteration:  1600\n",
            "loss:  1.4924002\n",
            "accuracy:  1.0\n",
            "Test\n",
            "loss:  1.4886137\n",
            "accuracy:  0.9726\n",
            "Epoch:  4\n",
            "Train\n",
            "iteration:  0\n",
            "loss:  1.4613421\n",
            "accuracy:  0.96875\n",
            "iteration:  200\n",
            "loss:  1.4611526\n",
            "accuracy:  1.0\n",
            "iteration:  400\n",
            "loss:  1.4611502\n",
            "accuracy:  1.0\n",
            "iteration:  600\n",
            "loss:  1.5319855\n",
            "accuracy:  1.0\n",
            "iteration:  800\n",
            "loss:  1.4924002\n",
            "accuracy:  0.9375\n",
            "iteration:  1000\n",
            "loss:  1.4916577\n",
            "accuracy:  1.0\n",
            "iteration:  1200\n",
            "loss:  1.4612037\n",
            "accuracy:  0.96875\n",
            "iteration:  1400\n",
            "loss:  1.4615953\n",
            "accuracy:  0.96875\n",
            "iteration:  1600\n",
            "loss:  1.4924002\n",
            "accuracy:  1.0\n",
            "Test\n",
            "loss:  1.4799079\n",
            "accuracy:  0.9811\n",
            "Epoch:  5\n",
            "Train\n",
            "iteration:  0\n",
            "loss:  1.492378\n",
            "accuracy:  0.9375\n",
            "iteration:  200\n",
            "loss:  1.4611505\n",
            "accuracy:  1.0\n",
            "iteration:  400\n",
            "loss:  1.461168\n",
            "accuracy:  1.0\n",
            "iteration:  600\n",
            "loss:  1.4916058\n",
            "accuracy:  1.0\n",
            "iteration:  800\n",
            "loss:  1.4611502\n",
            "accuracy:  0.90625\n",
            "iteration:  1000\n",
            "loss:  1.4923999\n",
            "accuracy:  1.0\n",
            "iteration:  1200\n",
            "loss:  1.4924355\n",
            "accuracy:  0.9375\n",
            "iteration:  1400\n",
            "loss:  1.492398\n",
            "accuracy:  1.0\n",
            "iteration:  1600\n",
            "loss:  1.4924002\n",
            "accuracy:  0.96875\n",
            "Test\n",
            "loss:  1.4785523\n",
            "accuracy:  0.9823\n",
            "Epoch:  6\n",
            "Train\n",
            "iteration:  0\n",
            "loss:  1.4611502\n",
            "accuracy:  1.0\n",
            "iteration:  200\n",
            "loss:  1.4611502\n",
            "accuracy:  1.0\n",
            "iteration:  400\n",
            "loss:  1.4611502\n",
            "accuracy:  0.96875\n",
            "iteration:  600\n",
            "loss:  1.4782219\n",
            "accuracy:  0.96875\n",
            "iteration:  800\n",
            "loss:  1.5236175\n",
            "accuracy:  0.96875\n",
            "iteration:  1000\n",
            "loss:  1.4924002\n",
            "accuracy:  1.0\n",
            "iteration:  1200\n",
            "loss:  1.4934096\n",
            "accuracy:  0.96875\n",
            "iteration:  1400\n",
            "loss:  1.4926466\n",
            "accuracy:  0.96875\n",
            "iteration:  1600\n",
            "loss:  1.4924002\n",
            "accuracy:  1.0\n",
            "Test\n",
            "loss:  1.4793849\n",
            "accuracy:  0.9814\n",
            "Epoch:  7\n",
            "Train\n",
            "iteration:  0\n",
            "loss:  1.4611502\n",
            "accuracy:  0.96875\n",
            "iteration:  200\n",
            "loss:  1.4908092\n",
            "accuracy:  1.0\n"
          ],
          "name": "stdout"
        },
        {
          "output_type": "stream",
          "text": [
            "iteration:  400\n",
            "loss:  1.4870092\n",
            "accuracy:  1.0\n",
            "iteration:  600\n",
            "loss:  1.4913694\n",
            "accuracy:  1.0\n",
            "iteration:  800\n",
            "loss:  1.4924002\n",
            "accuracy:  0.9375\n",
            "iteration:  1000\n",
            "loss:  1.4924002\n",
            "accuracy:  1.0\n",
            "iteration:  1200\n",
            "loss:  1.5549004\n",
            "accuracy:  0.90625\n",
            "iteration:  1400\n",
            "loss:  1.4611502\n",
            "accuracy:  1.0\n",
            "iteration:  1600\n",
            "loss:  1.4924002\n",
            "accuracy:  1.0\n",
            "Test\n",
            "loss:  1.4819025\n",
            "accuracy:  0.9792\n",
            "Epoch:  8\n",
            "Train\n",
            "iteration:  0\n",
            "loss:  1.4611505\n",
            "accuracy:  0.96875\n",
            "iteration:  200\n",
            "loss:  1.4611502\n",
            "accuracy:  1.0\n",
            "iteration:  400\n",
            "loss:  1.4611502\n",
            "accuracy:  0.96875\n",
            "iteration:  600\n",
            "loss:  1.4611502\n",
            "accuracy:  1.0\n",
            "iteration:  800\n",
            "loss:  1.4924002\n",
            "accuracy:  0.96875\n",
            "iteration:  1000\n",
            "loss:  1.4924002\n",
            "accuracy:  1.0\n",
            "iteration:  1200\n",
            "loss:  1.5388948\n",
            "accuracy:  0.90625\n",
            "iteration:  1400\n",
            "loss:  1.4611502\n",
            "accuracy:  1.0\n",
            "iteration:  1600\n",
            "loss:  1.494741\n",
            "accuracy:  1.0\n",
            "Test\n",
            "loss:  1.4877033\n",
            "accuracy:  0.9731\n",
            "Epoch:  9\n",
            "Train\n",
            "iteration:  0\n",
            "loss:  1.4924002\n",
            "accuracy:  0.96875\n",
            "iteration:  200\n",
            "loss:  1.4611502\n",
            "accuracy:  1.0\n",
            "iteration:  400\n",
            "loss:  1.4924002\n",
            "accuracy:  1.0\n",
            "iteration:  600\n",
            "loss:  1.4924002\n",
            "accuracy:  1.0\n",
            "iteration:  800\n",
            "loss:  1.4924006\n",
            "accuracy:  1.0\n",
            "iteration:  1000\n",
            "loss:  1.4924002\n",
            "accuracy:  1.0\n",
            "iteration:  1200\n",
            "loss:  1.4924002\n",
            "accuracy:  0.9375\n",
            "iteration:  1400\n",
            "loss:  1.4922881\n",
            "accuracy:  1.0\n",
            "iteration:  1600\n",
            "loss:  1.4924002\n",
            "accuracy:  0.96875\n",
            "Test\n",
            "loss:  1.4845581\n",
            "accuracy:  0.9764\n",
            "Epoch:  10\n",
            "Train\n",
            "iteration:  0\n",
            "loss:  1.5236502\n",
            "accuracy:  0.96875\n",
            "iteration:  200\n",
            "loss:  1.4611502\n",
            "accuracy:  1.0\n",
            "iteration:  400\n",
            "loss:  1.4611502\n",
            "accuracy:  0.96875\n",
            "iteration:  600\n",
            "loss:  1.4924002\n",
            "accuracy:  1.0\n",
            "iteration:  800\n",
            "loss:  1.4924002\n",
            "accuracy:  0.96875\n",
            "iteration:  1000\n",
            "loss:  1.490012\n",
            "accuracy:  1.0\n",
            "iteration:  1200\n",
            "loss:  1.5236502\n",
            "accuracy:  0.9375\n",
            "iteration:  1400\n",
            "loss:  1.4611502\n",
            "accuracy:  1.0\n",
            "iteration:  1600\n",
            "loss:  1.4611502\n",
            "accuracy:  0.96875\n",
            "Test\n",
            "loss:  1.4800495\n",
            "accuracy:  0.981\n"
          ],
          "name": "stdout"
        }
      ]
    },
    {
      "metadata": {
        "id": "EJ-2Cb-9sDHU",
        "colab_type": "code",
        "colab": {
          "autoexec": {
            "startup": false,
            "wait_interval": 0
          },
          "base_uri": "https://localhost:8080/",
          "height": 51
        },
        "outputId": "590123c0-8394-4f05-8d33-0a57d2581063",
        "executionInfo": {
          "status": "ok",
          "timestamp": 1532682188994,
          "user_tz": -480,
          "elapsed": 1126,
          "user": {
            "displayName": "su wei",
            "photoUrl": "https://lh3.googleusercontent.com/a/default-user=s128",
            "userId": "114343161714158173402"
          }
        }
      },
      "cell_type": "code",
      "source": [
        "# eval\n",
        "sess.run(val_init_op)\n",
        "print('loss: ', sess.run(cost))\n",
        "print('accuracy: ', sess.run(accuracy))"
      ],
      "execution_count": 30,
      "outputs": [
        {
          "output_type": "stream",
          "text": [
            "loss:  1.481092\n",
            "accuracy:  0.98\n"
          ],
          "name": "stdout"
        }
      ]
    },
    {
      "metadata": {
        "id": "1-O254Xc_0nT",
        "colab_type": "text"
      },
      "cell_type": "markdown",
      "source": [
        "### Now to figure out how to save the tf model and weights"
      ]
    },
    {
      "metadata": {
        "id": "5ipYeolJ_5wb",
        "colab_type": "code",
        "colab": {
          "autoexec": {
            "startup": false,
            "wait_interval": 0
          }
        }
      },
      "cell_type": "code",
      "source": [
        "saver = tf.train.Saver()"
      ],
      "execution_count": 0,
      "outputs": []
    },
    {
      "metadata": {
        "id": "THAC0fZ1EfXi",
        "colab_type": "code",
        "colab": {
          "autoexec": {
            "startup": false,
            "wait_interval": 0
          },
          "base_uri": "https://localhost:8080/",
          "height": 34
        },
        "outputId": "db6372f5-e173-4ce2-fea0-188a14c3905c",
        "executionInfo": {
          "status": "ok",
          "timestamp": 1532683840304,
          "user_tz": -480,
          "elapsed": 2094,
          "user": {
            "displayName": "su wei",
            "photoUrl": "https://lh3.googleusercontent.com/a/default-user=s128",
            "userId": "114343161714158173402"
          }
        }
      },
      "cell_type": "code",
      "source": [
        "saver.save(sess=sess, save_path='./model_files/model.ckpt', )"
      ],
      "execution_count": 35,
      "outputs": [
        {
          "output_type": "execute_result",
          "data": {
            "text/plain": [
              "'./model_files/model.ckpt'"
            ]
          },
          "metadata": {
            "tags": []
          },
          "execution_count": 35
        }
      ]
    },
    {
      "metadata": {
        "id": "N6ZuYf3GE2KY",
        "colab_type": "code",
        "colab": {
          "autoexec": {
            "startup": false,
            "wait_interval": 0
          }
        }
      },
      "cell_type": "code",
      "source": [
        ""
      ],
      "execution_count": 0,
      "outputs": []
    },
    {
      "metadata": {
        "id": "ZXl9CKzxFQHR",
        "colab_type": "code",
        "colab": {
          "autoexec": {
            "startup": false,
            "wait_interval": 0
          }
        }
      },
      "cell_type": "code",
      "source": [
        ""
      ],
      "execution_count": 0,
      "outputs": []
    },
    {
      "metadata": {
        "id": "K8zEHV7XFQeg",
        "colab_type": "text"
      },
      "cell_type": "markdown",
      "source": [
        "fiddling around with CLI to check if model was saved"
      ]
    },
    {
      "metadata": {
        "id": "IE3RvvdWFWIm",
        "colab_type": "code",
        "colab": {
          "autoexec": {
            "startup": false,
            "wait_interval": 0
          },
          "base_uri": "https://localhost:8080/",
          "height": 34
        },
        "outputId": "7adaa9ef-b395-45c8-d6c1-3c90e9ba6414",
        "executionInfo": {
          "status": "ok",
          "timestamp": 1532684173074,
          "user_tz": -480,
          "elapsed": 1855,
          "user": {
            "displayName": "su wei",
            "photoUrl": "https://lh3.googleusercontent.com/a/default-user=s128",
            "userId": "114343161714158173402"
          }
        }
      },
      "cell_type": "code",
      "source": [
        "!ls"
      ],
      "execution_count": 42,
      "outputs": [
        {
          "output_type": "stream",
          "text": [
            "datalab  MNIST_data  model_files\r\n"
          ],
          "name": "stdout"
        }
      ]
    },
    {
      "metadata": {
        "id": "nJ7friHvFXkB",
        "colab_type": "code",
        "colab": {
          "autoexec": {
            "startup": false,
            "wait_interval": 0
          },
          "base_uri": "https://localhost:8080/",
          "height": 34
        },
        "outputId": "e65eca08-b186-4aca-f92b-7b1358d32cd6",
        "executionInfo": {
          "status": "ok",
          "timestamp": 1532684175956,
          "user_tz": -480,
          "elapsed": 603,
          "user": {
            "displayName": "su wei",
            "photoUrl": "https://lh3.googleusercontent.com/a/default-user=s128",
            "userId": "114343161714158173402"
          }
        }
      },
      "cell_type": "code",
      "source": [
        "%cd model_files"
      ],
      "execution_count": 43,
      "outputs": [
        {
          "output_type": "stream",
          "text": [
            "/content/model_files\n"
          ],
          "name": "stdout"
        }
      ]
    },
    {
      "metadata": {
        "id": "Xif_aQLeFb2b",
        "colab_type": "code",
        "colab": {
          "autoexec": {
            "startup": false,
            "wait_interval": 0
          },
          "base_uri": "https://localhost:8080/",
          "height": 102
        },
        "outputId": "c1d483e4-6422-46e9-e325-93c04f8d2e5b",
        "executionInfo": {
          "status": "ok",
          "timestamp": 1532684188535,
          "user_tz": -480,
          "elapsed": 1848,
          "user": {
            "displayName": "su wei",
            "photoUrl": "https://lh3.googleusercontent.com/a/default-user=s128",
            "userId": "114343161714158173402"
          }
        }
      },
      "cell_type": "code",
      "source": [
        "!ls -l"
      ],
      "execution_count": 45,
      "outputs": [
        {
          "output_type": "stream",
          "text": [
            "total 227596\r\n",
            "-rw-r--r-- 1 root root        77 Jul 27 09:30 checkpoint\r\n",
            "-rw-r--r-- 1 root root   7838336 Jul 27 09:30 model.ckpt.data-00000-of-00001\r\n",
            "-rw-r--r-- 1 root root       985 Jul 27 09:30 model.ckpt.index\r\n",
            "-rw-r--r-- 1 root root 225206726 Jul 27 09:30 model.ckpt.meta\r\n"
          ],
          "name": "stdout"
        }
      ]
    },
    {
      "metadata": {
        "id": "LLs-n-K8Fd4M",
        "colab_type": "code",
        "colab": {
          "autoexec": {
            "startup": false,
            "wait_interval": 0
          }
        }
      },
      "cell_type": "code",
      "source": [
        ""
      ],
      "execution_count": 0,
      "outputs": []
    },
    {
      "metadata": {
        "id": "ULaVY7TCFjkm",
        "colab_type": "code",
        "colab": {
          "autoexec": {
            "startup": false,
            "wait_interval": 0
          }
        }
      },
      "cell_type": "code",
      "source": [
        ""
      ],
      "execution_count": 0,
      "outputs": []
    }
  ]
}